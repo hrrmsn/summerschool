{
 "cells": [
  {
   "cell_type": "code",
   "execution_count": 2,
   "metadata": {
    "collapsed": true
   },
   "outputs": [],
   "source": [
    "FORWARD_STEP_PROBABILITY = 1 / 3.\n",
    "BACK_STEP_PROBABILITY = 1 - FORWARD_STEP_PROBABILITY\n",
    "\n",
    "def make_step(position, steps_number, position_prob, dead_probs):\n",
    "    if steps_number == 0:\n",
    "        if position > 0:\n",
    "            dead_probs.append(position_prob)\n",
    "        return\n",
    "    make_step(position + 1, steps_number - 1, position_prob * FORWARD_STEP_PROBABILITY, dead_probs)\n",
    "    make_step(position - 1, steps_number - 1, position_prob * BACK_STEP_PROBABILITY, dead_probs)\n",
    "\n",
    "def is_wino_still_alive(steps_number):\n",
    "    dead_probs = []\n",
    "    make_step(-2, steps_number, 1, dead_probs)\n",
    "    return 1 - sum(dead_probs)"
   ]
  },
  {
   "cell_type": "markdown",
   "metadata": {},
   "source": [
    "Let's calculate the probability that wino is alive after 5 steps."
   ]
  },
  {
   "cell_type": "code",
   "execution_count": 3,
   "metadata": {},
   "outputs": [
    {
     "name": "stdout",
     "output_type": "stream",
     "text": [
      "0.954732510288\n"
     ]
    }
   ],
   "source": [
    "print is_wino_still_alive(5)"
   ]
  },
  {
   "cell_type": "markdown",
   "metadata": {},
   "source": [
    "The probability is ~ 0.95."
   ]
  },
  {
   "cell_type": "markdown",
   "metadata": {},
   "source": [
    "Let's plot the graph of is_wino_still_alive function."
   ]
  },
  {
   "cell_type": "code",
   "execution_count": null,
   "metadata": {},
   "outputs": [
    {
     "name": "stdout",
     "output_type": "stream",
     "text": [
      "Populating the interactive namespace from numpy and matplotlib\n"
     ]
    },
    {
     "name": "stderr",
     "output_type": "stream",
     "text": [
      "/usr/local/lib/python2.7/dist-packages/IPython/core/magics/pylab.py:161: UserWarning: pylab import has clobbered these variables: ['step']\n",
      "`%matplotlib` prevents importing * from pylab and numpy\n",
      "  \"\\n`%matplotlib` prevents importing * from pylab and numpy\"\n"
     ]
    }
   ],
   "source": [
    "import matplotlib.pyplot as plt\n",
    "import seaborn\n",
    "%pylab inline"
   ]
  },
  {
   "cell_type": "code",
   "execution_count": null,
   "metadata": {},
   "outputs": [
    {
     "data": {
      "text/plain": [
       "[<matplotlib.lines.Line2D at 0xa9bd386c>]"
      ]
     },
     "execution_count": 5,
     "metadata": {},
     "output_type": "execute_result"
    },
    {
     "data": {
      "text/plain": [
       "<matplotlib.figure.Figure at 0xa9cd874c>"
      ]
     },
     "metadata": {},
     "output_type": "display_data"
    }
   ],
   "source": [
    "steps = range(1, 26)\n",
    "probs = [is_wino_still_alive(step) for step in steps]\n",
    "plt.figure(figsize(15, 8))\n",
    "plt.figure().gca().xaxis.set_major_locator(MaxNLocator(integer=True))\n",
    "plt.xlabel('steps')\n",
    "plt.ylabel('probability that wino is alive')\n",
    "plt.plot(steps, probs)"
   ]
  },
  {
   "cell_type": "code",
   "execution_count": null,
   "metadata": {
    "collapsed": true
   },
   "outputs": [],
   "source": []
  }
 ],
 "metadata": {
  "kernelspec": {
   "display_name": "Python 2",
   "language": "python",
   "name": "python2"
  },
  "language_info": {
   "codemirror_mode": {
    "name": "ipython",
    "version": 2
   },
   "file_extension": ".py",
   "mimetype": "text/x-python",
   "name": "python",
   "nbconvert_exporter": "python",
   "pygments_lexer": "ipython2",
   "version": "2.7.6"
  }
 },
 "nbformat": 4,
 "nbformat_minor": 2
}
